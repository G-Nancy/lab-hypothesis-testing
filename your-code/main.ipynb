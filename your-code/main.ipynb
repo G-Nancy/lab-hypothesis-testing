{
 "cells": [
  {
   "cell_type": "markdown",
   "metadata": {},
   "source": [
    "# Before your start:\n",
    "- Read the README.md file\n",
    "- Comment as much as you can and use the resources (README.md file)\n",
    "- Happy learning!"
   ]
  },
  {
   "cell_type": "code",
   "execution_count": 5,
   "metadata": {},
   "outputs": [],
   "source": [
    "# import numpy and pandas\n",
    "import pandas as pd\n",
    "import numpy as np\n",
    "from scipy.stats import trim_mean, mode, skew, gaussian_kde, pearsonr, spearmanr, beta\n",
    "from statsmodels.stats.weightstats import ztest as ztest\n",
    "\n",
    "from scipy.stats import ttest_ind, norm, t\n",
    "from scipy.stats import f_oneway\n",
    "from scipy.stats import sem\n",
    "import scipy.stats as st"
   ]
  },
  {
   "cell_type": "markdown",
   "metadata": {},
   "source": [
    "# Challenge 1\n",
    "\n",
    "This is a placeholder to make the AI corrector be able to find the correct exercise for feedback"
   ]
  },
  {
   "cell_type": "code",
   "execution_count": 14,
   "metadata": {},
   "outputs": [
    {
     "data": {
      "text/html": [
       "<div>\n",
       "<style scoped>\n",
       "    .dataframe tbody tr th:only-of-type {\n",
       "        vertical-align: middle;\n",
       "    }\n",
       "\n",
       "    .dataframe tbody tr th {\n",
       "        vertical-align: top;\n",
       "    }\n",
       "\n",
       "    .dataframe thead th {\n",
       "        text-align: right;\n",
       "    }\n",
       "</style>\n",
       "<table border=\"1\" class=\"dataframe\">\n",
       "  <thead>\n",
       "    <tr style=\"text-align: right;\">\n",
       "      <th></th>\n",
       "      <th>Name</th>\n",
       "      <th>Job Titles</th>\n",
       "      <th>Department</th>\n",
       "      <th>Full or Part-Time</th>\n",
       "      <th>Salary or Hourly</th>\n",
       "      <th>Typical Hours</th>\n",
       "      <th>Annual Salary</th>\n",
       "      <th>Hourly Rate</th>\n",
       "    </tr>\n",
       "  </thead>\n",
       "  <tbody>\n",
       "    <tr>\n",
       "      <th>848</th>\n",
       "      <td>ANGELETTI,  ANTHONY R</td>\n",
       "      <td>ELECTRICAL MECHANIC</td>\n",
       "      <td>GENERAL SERVICES</td>\n",
       "      <td>F</td>\n",
       "      <td>Hourly</td>\n",
       "      <td>40.0</td>\n",
       "      <td>NaN</td>\n",
       "      <td>46.10</td>\n",
       "    </tr>\n",
       "    <tr>\n",
       "      <th>30383</th>\n",
       "      <td>VALLEJO LAMA,  CARMEN L</td>\n",
       "      <td>CROSSING GUARD - PER CBA</td>\n",
       "      <td>OEMC</td>\n",
       "      <td>P</td>\n",
       "      <td>Hourly</td>\n",
       "      <td>20.0</td>\n",
       "      <td>NaN</td>\n",
       "      <td>17.42</td>\n",
       "    </tr>\n",
       "    <tr>\n",
       "      <th>8097</th>\n",
       "      <td>EIBLER,  JOSEPH F</td>\n",
       "      <td>STUDENT INTERN</td>\n",
       "      <td>AVIATION</td>\n",
       "      <td>F</td>\n",
       "      <td>Hourly</td>\n",
       "      <td>35.0</td>\n",
       "      <td>NaN</td>\n",
       "      <td>14.00</td>\n",
       "    </tr>\n",
       "    <tr>\n",
       "      <th>8646</th>\n",
       "      <td>FEELY,  JOHN</td>\n",
       "      <td>PLUMBER</td>\n",
       "      <td>WATER MGMNT</td>\n",
       "      <td>F</td>\n",
       "      <td>Hourly</td>\n",
       "      <td>40.0</td>\n",
       "      <td>NaN</td>\n",
       "      <td>48.25</td>\n",
       "    </tr>\n",
       "    <tr>\n",
       "      <th>11674</th>\n",
       "      <td>HALL,  STANLEY E</td>\n",
       "      <td>MOTOR TRUCK DRIVER</td>\n",
       "      <td>WATER MGMNT</td>\n",
       "      <td>F</td>\n",
       "      <td>Hourly</td>\n",
       "      <td>40.0</td>\n",
       "      <td>NaN</td>\n",
       "      <td>35.60</td>\n",
       "    </tr>\n",
       "  </tbody>\n",
       "</table>\n",
       "</div>"
      ],
      "text/plain": [
       "                          Name                Job Titles        Department  \\\n",
       "848      ANGELETTI,  ANTHONY R       ELECTRICAL MECHANIC  GENERAL SERVICES   \n",
       "30383  VALLEJO LAMA,  CARMEN L  CROSSING GUARD - PER CBA              OEMC   \n",
       "8097         EIBLER,  JOSEPH F            STUDENT INTERN          AVIATION   \n",
       "8646             FEELY,  JOHN                    PLUMBER       WATER MGMNT   \n",
       "11674         HALL,  STANLEY E        MOTOR TRUCK DRIVER       WATER MGMNT   \n",
       "\n",
       "      Full or Part-Time Salary or Hourly  Typical Hours  Annual Salary  \\\n",
       "848                   F           Hourly           40.0            NaN   \n",
       "30383                 P           Hourly           20.0            NaN   \n",
       "8097                  F           Hourly           35.0            NaN   \n",
       "8646                  F           Hourly           40.0            NaN   \n",
       "11674                 F           Hourly           40.0            NaN   \n",
       "\n",
       "       Hourly Rate  \n",
       "848          46.10  \n",
       "30383        17.42  \n",
       "8097         14.00  \n",
       "8646         48.25  \n",
       "11674        35.60  "
      ]
     },
     "execution_count": 14,
     "metadata": {},
     "output_type": "execute_result"
    }
   ],
   "source": [
    "# Run this code:\n",
    "salaries = pd.read_csv('../data/Current_Employee_Names__Salaries__and_Position_Titles.csv')\n",
    "salaries_hr_samp = salaries[salaries['Hourly Rate'].notna()].sample(100)\n",
    "salaries_hr_samp.head(5)"
   ]
  },
  {
   "cell_type": "markdown",
   "metadata": {},
   "source": [
    "# Challenge 2 - Hypothesis Tests\n",
    "\n",
    "In this section of the lab, we will test whether the hourly wage of all hourly workers is significantly different from $30/hr. Import the correct one sample test function from scipy and perform the hypothesis test for a 95% two sided confidence interval."
   ]
  },
  {
   "cell_type": "code",
   "execution_count": 18,
   "metadata": {},
   "outputs": [
    {
     "name": "stdout",
     "output_type": "stream",
     "text": [
      "95% confidence internval is:\n",
      "(np.float64(29.606177781753374), np.float64(34.65202221824663))\n",
      "Mean of the sample is: 32.1291\n"
     ]
    },
    {
     "data": {
      "text/plain": [
       "TtestResult(statistic=np.float64(1.674485357060723), pvalue=np.float64(0.0971916398218299), df=np.int64(99))"
      ]
     },
     "execution_count": 18,
     "metadata": {},
     "output_type": "execute_result"
    }
   ],
   "source": [
    "# Your code here\n",
    "\n",
    "# Hypothesis \n",
    "# NULL hypothesis H0 -> hourly wage of all hourly workers = $30/hr\n",
    "# Alternative Hypothesis (H1) -> hourly wage of all hourly workers != $30/hr\n",
    "\n",
    "# Confidence Interval\n",
    "conf_interval = 0.95\n",
    "s = salaries_hr_samp['Hourly Rate'].std()\n",
    "deg_f = len(salaries_hr_samp)\n",
    "s_mu = salaries_hr_samp['Hourly Rate'].mean()\n",
    "\n",
    "print('95% confidence internval is:')\n",
    "\n",
    "print(st.t.interval(conf_interval, deg_f-1, loc = s_mu, scale=s/np.sqrt(deg_f)))\n",
    "\n",
    "\n",
    "# Hypothesis testing using sample test function\n",
    "print('Mean of the sample is:', salaries_hr_samp['Hourly Rate'].mean())\n",
    "st.ttest_1samp(salaries_hr_samp['Hourly Rate'], 30)"
   ]
  },
  {
   "cell_type": "code",
   "execution_count": 17,
   "metadata": {},
   "outputs": [
    {
     "data": {
      "text/plain": [
       "TtestResult(statistic=np.float64(1.674485357060723), pvalue=np.float64(0.9514041800890851), df=np.int64(99))"
      ]
     },
     "execution_count": 17,
     "metadata": {},
     "output_type": "execute_result"
    }
   ],
   "source": [
    "st.ttest_1samp(salaries_hr_samp['Hourly Rate'], 30, alternative='less')"
   ]
  },
  {
   "cell_type": "code",
   "execution_count": 19,
   "metadata": {},
   "outputs": [
    {
     "data": {
      "text/plain": [
       "TtestResult(statistic=np.float64(1.674485357060723), pvalue=np.float64(0.04859581991091495), df=np.int64(99))"
      ]
     },
     "execution_count": 19,
     "metadata": {},
     "output_type": "execute_result"
    }
   ],
   "source": [
    "st.ttest_1samp(salaries_hr_samp['Hourly Rate'], 30, alternative='greater')"
   ]
  },
  {
   "cell_type": "markdown",
   "metadata": {},
   "source": [
    "# Challenge 3\n",
    "\n",
    "This is a placeholder to make the AI corrector be able to find the correct exercise for feedback"
   ]
  },
  {
   "cell_type": "markdown",
   "metadata": {},
   "source": [
    "# Challenge 4 -  Hypothesis Tests of Proportions\n",
    "\n",
    "## This challenge is OPTIONAL\n",
    "\n",
    "Another type of one sample test is a hypothesis test of proportions. In this test, we examine whether the proportion of a group in our sample is significantly different than a fraction. \n",
    "\n",
    "You can read more about one sample proportion tests [here](http://sphweb.bumc.bu.edu/otlt/MPH-Modules/BS/SAS/SAS6-CategoricalData/SAS6-CategoricalData2.html).\n",
    "\n",
    "In the cell below, use the `proportions_ztest` function from `statsmodels` to perform a hypothesis test that will determine whether the number of hourly workers in the City of Chicago is significantly different from 25% at the 95% confidence level."
   ]
  },
  {
   "cell_type": "code",
   "execution_count": null,
   "metadata": {},
   "outputs": [],
   "source": [
    "# Your code here"
   ]
  }
 ],
 "metadata": {
  "kernelspec": {
   "display_name": "3.9.2",
   "language": "python",
   "name": "python3"
  },
  "language_info": {
   "codemirror_mode": {
    "name": "ipython",
    "version": 3
   },
   "file_extension": ".py",
   "mimetype": "text/x-python",
   "name": "python",
   "nbconvert_exporter": "python",
   "pygments_lexer": "ipython3",
   "version": "3.9.2"
  }
 },
 "nbformat": 4,
 "nbformat_minor": 2
}
